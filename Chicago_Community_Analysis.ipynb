{
 "cells": [
  {
   "cell_type": "markdown",
   "metadata": {},
   "source": [
    "# Chicago Community and Food Insecurity Analysis\n"
   ]
  },
  {
   "cell_type": "markdown",
   "metadata": {},
   "source": [
    "### Problem and Background\n",
    "\n",
    "Chicago is the 3rd largest city in the United States with a population of 2,693,976.[1] For statistical and planning purposes, Chicago is divided into 77 distinct community areas.[2]  These areas were first defined by researchers at the University of Chicago in the 1920s and still are used for urban planning initiatives and to compare equity of access to government and public services, in addition to informing commercial decisions (e.g., where to build new housing developments, entertainment, etc.) and other public and private sector analyses.  \n",
    "\n",
    "During the Covid19 Pandemic, many businesses in Chicago were forced to close by gubernatorial order.  Unemployment in the state sharply increased leaving many people without stable income.  Additionally, riots over police brutality erupted in the summer of 2020.  These riots resulted in extensive damage to small business throughout the city.  Among the businesses permanently closed were grocery stores and affordable restaurants.\n",
    "\n",
    "Many parts of Chicago are considered food deserts for their lack of affordable healthy grocery shopping options.  Food deserts were already a problem before the riots and pandemic lockdowns and have only gotten worse.[3,3b]  Currently, the demand for food banks or food pantries is higher than ever as many people cannot afford healthy food and rely on volunteer organizations for assistance.[4]  The increased demand for food bank services has also coincided with a decrease in food bank resources as less people have been able to donate money and food. \n",
    "\n",
    "Because of this increased strain on food banks, it is more important than ever to make wise use of existing resources.  Stakeholder Traveling food banks, philanthropist organizations and government agencies that aim to reach the maximum number of needy citizens need to go directly to the areas that need it most. The purpose of this project will be to identify the lowest income and most populous communities within the city where temporary food banks can be established to reach the maximum number of neediest citizens.  \n",
    "\n",
    "### Data Description\n",
    "\n",
    "To solve this problem, I will use two primary data sources to cluster and segment Chicago communities.  The first is community data released in 2020 from the Chicago Metropolitan Agency for Planning (CMAP).[5] This data set contains many variables related to community population, average income, access to transportation, and more.  The second data service that will be used here is the Foursquare API to explore how these communities differ in access to grocers and restaurants. The data sets will be merged for clustering and segmentation to develop recommendations to identify the best places for temporary, or new, food banks.     \n",
    "\n",
    "### Footnotes\n",
    "\n",
    "1.  US Census quick facts page: https://www.census.gov/quickfacts/chicagocityillinois\n",
    "2.  https://en.wikipedia.org/wiki/Community_areas_in_Chicago\n",
    "3.  https://www.chicagoreporter.com/food-deserts-persist-in-chicago-despite-more-supermarkets/\n",
    "3b. https://www.chicagotribune.com/coronavirus/ct-life-coronavirus-food-insecurity-tt-20200403-20200403-ytanbm6j75e2fhjitctqhgljay-story.html\n",
    "4. https://chicago.eater.com/2021/1/20/22231602/chicago-food-deserts-fresh-food-healthy-hood-we-go-us\n",
    "5. https://datahub.cmap.illinois.gov/dataset/community-data-snapshots-raw-data\n"
   ]
  },
  {
   "cell_type": "code",
   "execution_count": null,
   "metadata": {},
   "outputs": [],
   "source": []
  }
 ],
 "metadata": {
  "kernelspec": {
   "display_name": "Python 3",
   "language": "python",
   "name": "python3"
  },
  "language_info": {
   "codemirror_mode": {
    "name": "ipython",
    "version": 3
   },
   "file_extension": ".py",
   "mimetype": "text/x-python",
   "name": "python",
   "nbconvert_exporter": "python",
   "pygments_lexer": "ipython3",
   "version": "3.8.5"
  },
  "widgets": {
   "state": {},
   "version": "1.1.2"
  }
 },
 "nbformat": 4,
 "nbformat_minor": 2
}
